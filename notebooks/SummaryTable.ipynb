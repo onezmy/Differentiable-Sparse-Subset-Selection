{
  "nbformat": 4,
  "nbformat_minor": 0,
  "metadata": {
    "colab": {
      "name": "SummaryTable.ipynb",
      "provenance": [],
      "collapsed_sections": []
    },
    "kernelspec": {
      "display_name": "Python 3",
      "name": "python3"
    },
    "language_info": {
      "name": "python"
    }
  },
  "cells": [
    {
      "cell_type": "markdown",
      "metadata": {
        "id": "b4t-bqagzop8"
      },
      "source": [
        "# Google Notebook specific Stuff"
      ]
    },
    {
      "cell_type": "code",
      "metadata": {
        "colab": {
          "base_uri": "https://localhost:8080/"
        },
        "id": "XnY89fnUtfWh",
        "outputId": "790730a0-3179-4bee-fba8-c6a3836ebf10"
      },
      "source": [
        "from google.colab import drive\n",
        "drive.mount('/content/gdrive')"
      ],
      "execution_count": 1,
      "outputs": [
        {
          "output_type": "stream",
          "text": [
            "Mounted at /content/gdrive\n"
          ],
          "name": "stdout"
        }
      ]
    },
    {
      "cell_type": "code",
      "metadata": {
        "colab": {
          "base_uri": "https://localhost:8080/"
        },
        "id": "SpwYB-XOyXOZ",
        "outputId": "8860d5dd-347a-449a-fc71-721ab009633f"
      },
      "source": [
        "!pip install pytorch-lightning==1.3.3\n",
        "# !pip install cloud-tpu-client==0.10 https://storage.googleapis.com/tpu-pytorch/wheels/torch_xla-1.8.1-cp37-cp37m-linux_x86_64.whl\n",
        "!pip install scGeneFit\n",
        "!pip install scanpy\n",
        "!pip install anndata\n",
        "# my version of smashpy that fixed imports, nothing else was changed\n",
        "!pip install matplotlib>=3.3.2\n",
        "!pip install shap>=0.37.0\n",
        "!pip install xgboost>=1.3.3\n",
        "!pip install imbalanced-learn>=0.7.0\n",
        "!pip install numba>=0.51.2\n",
        "!pip install harmonypy>=0.0.5\n",
        "!git clone https://github.com/beelze-b/SmashFork.git\n",
        "!git clone https://github.com/ahsv/RankCorr.git"
      ],
      "execution_count": 2,
      "outputs": [
        {
          "output_type": "stream",
          "text": [
            "Collecting pytorch-lightning==1.3.3\n",
            "\u001b[?25l  Downloading https://files.pythonhosted.org/packages/42/80/03dcc7241722bffd5b76b796d31dbb1bbdc34a90d653de6b47c8ad9ffd73/pytorch_lightning-1.3.3-py3-none-any.whl (806kB)\n",
            "\u001b[K     |████████████████████████████████| 808kB 5.4MB/s \n",
            "\u001b[?25hRequirement already satisfied: torch>=1.4 in /usr/local/lib/python3.7/dist-packages (from pytorch-lightning==1.3.3) (1.9.0+cu102)\n",
            "Collecting PyYAML<=5.4.1,>=5.1\n",
            "\u001b[?25l  Downloading https://files.pythonhosted.org/packages/7a/a5/393c087efdc78091afa2af9f1378762f9821c9c1d7a22c5753fb5ac5f97a/PyYAML-5.4.1-cp37-cp37m-manylinux1_x86_64.whl (636kB)\n",
            "\u001b[K     |████████████████████████████████| 645kB 11.2MB/s \n",
            "\u001b[?25hCollecting tensorboard!=2.5.0,>=2.2.0\n",
            "\u001b[?25l  Downloading https://files.pythonhosted.org/packages/64/21/eebd23060763fedeefb78bc2b286e00fa1d8abda6f70efa2ee08c28af0d4/tensorboard-2.4.1-py3-none-any.whl (10.6MB)\n",
            "\u001b[K     |████████████████████████████████| 10.6MB 18.2MB/s \n",
            "\u001b[?25hRequirement already satisfied: numpy>=1.17.2 in /usr/local/lib/python3.7/dist-packages (from pytorch-lightning==1.3.3) (1.19.5)\n",
            "Collecting torchmetrics>=0.2.0\n",
            "\u001b[?25l  Downloading https://files.pythonhosted.org/packages/4d/8b/de8df9044ca2ac5dfc6b13b9ad3b3ebe6b3a45807311102b569d680e811f/torchmetrics-0.4.1-py3-none-any.whl (234kB)\n",
            "\u001b[K     |████████████████████████████████| 235kB 34.8MB/s \n",
            "\u001b[?25hRequirement already satisfied: packaging in /usr/local/lib/python3.7/dist-packages (from pytorch-lightning==1.3.3) (21.0)\n",
            "Collecting future>=0.17.1\n",
            "\u001b[?25l  Downloading https://files.pythonhosted.org/packages/45/0b/38b06fd9b92dc2b68d58b75f900e97884c45bedd2ff83203d933cf5851c9/future-0.18.2.tar.gz (829kB)\n",
            "\u001b[K     |████████████████████████████████| 829kB 36.0MB/s \n",
            "\u001b[?25hCollecting pyDeprecate==0.3.0\n",
            "  Downloading https://files.pythonhosted.org/packages/14/52/aa227a0884df71ed1957649085adf2b8bc2a1816d037c2f18b3078854516/pyDeprecate-0.3.0-py3-none-any.whl\n",
            "Collecting fsspec[http]>=2021.4.0\n",
            "\u001b[?25l  Downloading https://files.pythonhosted.org/packages/40/e1/7111d8afc76ee3171f4f99592cd29bac9d233ae1aa34623011506f955434/fsspec-2021.7.0-py3-none-any.whl (118kB)\n",
            "\u001b[K     |████████████████████████████████| 122kB 39.5MB/s \n",
            "\u001b[?25hRequirement already satisfied: tqdm>=4.41.0 in /usr/local/lib/python3.7/dist-packages (from pytorch-lightning==1.3.3) (4.41.1)\n",
            "Requirement already satisfied: typing-extensions in /usr/local/lib/python3.7/dist-packages (from torch>=1.4->pytorch-lightning==1.3.3) (3.7.4.3)\n",
            "Requirement already satisfied: requests<3,>=2.21.0 in /usr/local/lib/python3.7/dist-packages (from tensorboard!=2.5.0,>=2.2.0->pytorch-lightning==1.3.3) (2.23.0)\n",
            "Requirement already satisfied: google-auth<2,>=1.6.3 in /usr/local/lib/python3.7/dist-packages (from tensorboard!=2.5.0,>=2.2.0->pytorch-lightning==1.3.3) (1.32.1)\n",
            "Requirement already satisfied: absl-py>=0.4 in /usr/local/lib/python3.7/dist-packages (from tensorboard!=2.5.0,>=2.2.0->pytorch-lightning==1.3.3) (0.12.0)\n",
            "Requirement already satisfied: tensorboard-plugin-wit>=1.6.0 in /usr/local/lib/python3.7/dist-packages (from tensorboard!=2.5.0,>=2.2.0->pytorch-lightning==1.3.3) (1.8.0)\n",
            "Requirement already satisfied: werkzeug>=0.11.15 in /usr/local/lib/python3.7/dist-packages (from tensorboard!=2.5.0,>=2.2.0->pytorch-lightning==1.3.3) (1.0.1)\n",
            "Requirement already satisfied: setuptools>=41.0.0 in /usr/local/lib/python3.7/dist-packages (from tensorboard!=2.5.0,>=2.2.0->pytorch-lightning==1.3.3) (57.2.0)\n",
            "Requirement already satisfied: markdown>=2.6.8 in /usr/local/lib/python3.7/dist-packages (from tensorboard!=2.5.0,>=2.2.0->pytorch-lightning==1.3.3) (3.3.4)\n",
            "Requirement already satisfied: protobuf>=3.6.0 in /usr/local/lib/python3.7/dist-packages (from tensorboard!=2.5.0,>=2.2.0->pytorch-lightning==1.3.3) (3.17.3)\n",
            "Requirement already satisfied: grpcio>=1.24.3 in /usr/local/lib/python3.7/dist-packages (from tensorboard!=2.5.0,>=2.2.0->pytorch-lightning==1.3.3) (1.34.1)\n",
            "Requirement already satisfied: six>=1.10.0 in /usr/local/lib/python3.7/dist-packages (from tensorboard!=2.5.0,>=2.2.0->pytorch-lightning==1.3.3) (1.15.0)\n",
            "Requirement already satisfied: wheel>=0.26; python_version >= \"3\" in /usr/local/lib/python3.7/dist-packages (from tensorboard!=2.5.0,>=2.2.0->pytorch-lightning==1.3.3) (0.36.2)\n",
            "Requirement already satisfied: google-auth-oauthlib<0.5,>=0.4.1 in /usr/local/lib/python3.7/dist-packages (from tensorboard!=2.5.0,>=2.2.0->pytorch-lightning==1.3.3) (0.4.4)\n",
            "Requirement already satisfied: pyparsing>=2.0.2 in /usr/local/lib/python3.7/dist-packages (from packaging->pytorch-lightning==1.3.3) (2.4.7)\n",
            "Collecting aiohttp; extra == \"http\"\n",
            "\u001b[?25l  Downloading https://files.pythonhosted.org/packages/88/c0/5890b4c8b04a79b7360e8fe4490feb0bb3ab179743f199f0e6220cebd568/aiohttp-3.7.4.post0-cp37-cp37m-manylinux2014_x86_64.whl (1.3MB)\n",
            "\u001b[K     |████████████████████████████████| 1.3MB 34.0MB/s \n",
            "\u001b[?25hRequirement already satisfied: chardet<4,>=3.0.2 in /usr/local/lib/python3.7/dist-packages (from requests<3,>=2.21.0->tensorboard!=2.5.0,>=2.2.0->pytorch-lightning==1.3.3) (3.0.4)\n",
            "Requirement already satisfied: urllib3!=1.25.0,!=1.25.1,<1.26,>=1.21.1 in /usr/local/lib/python3.7/dist-packages (from requests<3,>=2.21.0->tensorboard!=2.5.0,>=2.2.0->pytorch-lightning==1.3.3) (1.24.3)\n",
            "Requirement already satisfied: certifi>=2017.4.17 in /usr/local/lib/python3.7/dist-packages (from requests<3,>=2.21.0->tensorboard!=2.5.0,>=2.2.0->pytorch-lightning==1.3.3) (2021.5.30)\n",
            "Requirement already satisfied: idna<3,>=2.5 in /usr/local/lib/python3.7/dist-packages (from requests<3,>=2.21.0->tensorboard!=2.5.0,>=2.2.0->pytorch-lightning==1.3.3) (2.10)\n",
            "Requirement already satisfied: pyasn1-modules>=0.2.1 in /usr/local/lib/python3.7/dist-packages (from google-auth<2,>=1.6.3->tensorboard!=2.5.0,>=2.2.0->pytorch-lightning==1.3.3) (0.2.8)\n",
            "Requirement already satisfied: rsa<5,>=3.1.4; python_version >= \"3.6\" in /usr/local/lib/python3.7/dist-packages (from google-auth<2,>=1.6.3->tensorboard!=2.5.0,>=2.2.0->pytorch-lightning==1.3.3) (4.7.2)\n",
            "Requirement already satisfied: cachetools<5.0,>=2.0.0 in /usr/local/lib/python3.7/dist-packages (from google-auth<2,>=1.6.3->tensorboard!=2.5.0,>=2.2.0->pytorch-lightning==1.3.3) (4.2.2)\n",
            "Requirement already satisfied: importlib-metadata; python_version < \"3.8\" in /usr/local/lib/python3.7/dist-packages (from markdown>=2.6.8->tensorboard!=2.5.0,>=2.2.0->pytorch-lightning==1.3.3) (4.6.1)\n",
            "Requirement already satisfied: requests-oauthlib>=0.7.0 in /usr/local/lib/python3.7/dist-packages (from google-auth-oauthlib<0.5,>=0.4.1->tensorboard!=2.5.0,>=2.2.0->pytorch-lightning==1.3.3) (1.3.0)\n",
            "Collecting yarl<2.0,>=1.0\n",
            "\u001b[?25l  Downloading https://files.pythonhosted.org/packages/f1/62/046834c5fc998c88ab2ef722f5d42122230a632212c8afa76418324f53ff/yarl-1.6.3-cp37-cp37m-manylinux2014_x86_64.whl (294kB)\n",
            "\u001b[K     |████████████████████████████████| 296kB 45.1MB/s \n",
            "\u001b[?25hRequirement already satisfied: attrs>=17.3.0 in /usr/local/lib/python3.7/dist-packages (from aiohttp; extra == \"http\"->fsspec[http]>=2021.4.0->pytorch-lightning==1.3.3) (21.2.0)\n",
            "Collecting async-timeout<4.0,>=3.0\n",
            "  Downloading https://files.pythonhosted.org/packages/e1/1e/5a4441be21b0726c4464f3f23c8b19628372f606755a9d2e46c187e65ec4/async_timeout-3.0.1-py3-none-any.whl\n",
            "Collecting multidict<7.0,>=4.5\n",
            "\u001b[?25l  Downloading https://files.pythonhosted.org/packages/7c/a6/4123b8165acbe773d1a8dc8e3f0d1edea16d29f7de018eda769abb56bd30/multidict-5.1.0-cp37-cp37m-manylinux2014_x86_64.whl (142kB)\n",
            "\u001b[K     |████████████████████████████████| 143kB 53.1MB/s \n",
            "\u001b[?25hRequirement already satisfied: pyasn1<0.5.0,>=0.4.6 in /usr/local/lib/python3.7/dist-packages (from pyasn1-modules>=0.2.1->google-auth<2,>=1.6.3->tensorboard!=2.5.0,>=2.2.0->pytorch-lightning==1.3.3) (0.4.8)\n",
            "Requirement already satisfied: zipp>=0.5 in /usr/local/lib/python3.7/dist-packages (from importlib-metadata; python_version < \"3.8\"->markdown>=2.6.8->tensorboard!=2.5.0,>=2.2.0->pytorch-lightning==1.3.3) (3.5.0)\n",
            "Requirement already satisfied: oauthlib>=3.0.0 in /usr/local/lib/python3.7/dist-packages (from requests-oauthlib>=0.7.0->google-auth-oauthlib<0.5,>=0.4.1->tensorboard!=2.5.0,>=2.2.0->pytorch-lightning==1.3.3) (3.1.1)\n",
            "Building wheels for collected packages: future\n",
            "  Building wheel for future (setup.py) ... \u001b[?25l\u001b[?25hdone\n",
            "  Created wheel for future: filename=future-0.18.2-cp37-none-any.whl size=491070 sha256=4df15d409946823cafbac505be0f7314f2b9b93f80d8f0d412b3ffd27e6a9c7a\n",
            "  Stored in directory: /root/.cache/pip/wheels/8b/99/a0/81daf51dcd359a9377b110a8a886b3895921802d2fc1b2397e\n",
            "Successfully built future\n",
            "\u001b[31mERROR: tensorflow 2.5.0 has requirement tensorboard~=2.5, but you'll have tensorboard 2.4.1 which is incompatible.\u001b[0m\n",
            "Installing collected packages: PyYAML, tensorboard, torchmetrics, future, pyDeprecate, multidict, yarl, async-timeout, aiohttp, fsspec, pytorch-lightning\n",
            "  Found existing installation: PyYAML 3.13\n",
            "    Uninstalling PyYAML-3.13:\n",
            "      Successfully uninstalled PyYAML-3.13\n",
            "  Found existing installation: tensorboard 2.5.0\n",
            "    Uninstalling tensorboard-2.5.0:\n",
            "      Successfully uninstalled tensorboard-2.5.0\n",
            "  Found existing installation: future 0.16.0\n",
            "    Uninstalling future-0.16.0:\n",
            "      Successfully uninstalled future-0.16.0\n",
            "Successfully installed PyYAML-5.4.1 aiohttp-3.7.4.post0 async-timeout-3.0.1 fsspec-2021.7.0 future-0.18.2 multidict-5.1.0 pyDeprecate-0.3.0 pytorch-lightning-1.3.3 tensorboard-2.4.1 torchmetrics-0.4.1 yarl-1.6.3\n",
            "Collecting scGeneFit\n",
            "\u001b[?25l  Downloading https://files.pythonhosted.org/packages/64/20/f82e81339f43e2ee8b18d3ab0daf39fe47bcb984efaba8f9ca0e9c5481e8/scGeneFit-1.0.2-py3-none-any.whl (13.2MB)\n",
            "\u001b[K     |████████████████████████████████| 13.2MB 6.6MB/s \n",
            "\u001b[?25hRequirement already satisfied: scipy in /usr/local/lib/python3.7/dist-packages (from scGeneFit) (1.4.1)\n",
            "Requirement already satisfied: numpy in /usr/local/lib/python3.7/dist-packages (from scGeneFit) (1.19.5)\n",
            "Requirement already satisfied: sklearn in /usr/local/lib/python3.7/dist-packages (from scGeneFit) (0.0)\n",
            "Requirement already satisfied: matplotlib in /usr/local/lib/python3.7/dist-packages (from scGeneFit) (3.2.2)\n",
            "Requirement already satisfied: scikit-learn in /usr/local/lib/python3.7/dist-packages (from sklearn->scGeneFit) (0.22.2.post1)\n",
            "Requirement already satisfied: kiwisolver>=1.0.1 in /usr/local/lib/python3.7/dist-packages (from matplotlib->scGeneFit) (1.3.1)\n",
            "Requirement already satisfied: cycler>=0.10 in /usr/local/lib/python3.7/dist-packages (from matplotlib->scGeneFit) (0.10.0)\n",
            "Requirement already satisfied: pyparsing!=2.0.4,!=2.1.2,!=2.1.6,>=2.0.1 in /usr/local/lib/python3.7/dist-packages (from matplotlib->scGeneFit) (2.4.7)\n",
            "Requirement already satisfied: python-dateutil>=2.1 in /usr/local/lib/python3.7/dist-packages (from matplotlib->scGeneFit) (2.8.1)\n",
            "Requirement already satisfied: joblib>=0.11 in /usr/local/lib/python3.7/dist-packages (from scikit-learn->sklearn->scGeneFit) (1.0.1)\n",
            "Requirement already satisfied: six in /usr/local/lib/python3.7/dist-packages (from cycler>=0.10->matplotlib->scGeneFit) (1.15.0)\n",
            "Installing collected packages: scGeneFit\n",
            "Successfully installed scGeneFit-1.0.2\n",
            "Collecting scanpy\n",
            "\u001b[?25l  Downloading https://files.pythonhosted.org/packages/21/5a/bfaa021cc14e7d0da0963cf326735773c03d9870e3d99c5ff494ab241d7e/scanpy-1.8.1-py3-none-any.whl (2.0MB)\n",
            "\u001b[K     |████████████████████████████████| 2.0MB 5.0MB/s \n",
            "\u001b[?25hRequirement already satisfied: scikit-learn>=0.22 in /usr/local/lib/python3.7/dist-packages (from scanpy) (0.22.2.post1)\n",
            "Requirement already satisfied: numba>=0.41.0 in /usr/local/lib/python3.7/dist-packages (from scanpy) (0.51.2)\n",
            "Requirement already satisfied: networkx>=2.3 in /usr/local/lib/python3.7/dist-packages (from scanpy) (2.5.1)\n",
            "Requirement already satisfied: statsmodels>=0.10.0rc2 in /usr/local/lib/python3.7/dist-packages (from scanpy) (0.10.2)\n",
            "Requirement already satisfied: natsort in /usr/local/lib/python3.7/dist-packages (from scanpy) (5.5.0)\n",
            "Requirement already satisfied: tables in /usr/local/lib/python3.7/dist-packages (from scanpy) (3.4.4)\n",
            "Requirement already satisfied: seaborn in /usr/local/lib/python3.7/dist-packages (from scanpy) (0.11.1)\n",
            "Collecting umap-learn>=0.3.10\n",
            "\u001b[?25l  Downloading https://files.pythonhosted.org/packages/75/69/85e7f950bb75792ad5d666d86c5f3e62eedbb942848e7e3126513af9999c/umap-learn-0.5.1.tar.gz (80kB)\n",
            "\u001b[K     |████████████████████████████████| 81kB 7.0MB/s \n",
            "\u001b[?25hRequirement already satisfied: patsy in /usr/local/lib/python3.7/dist-packages (from scanpy) (0.5.1)\n",
            "Requirement already satisfied: scipy>=1.4 in /usr/local/lib/python3.7/dist-packages (from scanpy) (1.4.1)\n",
            "Requirement already satisfied: joblib in /usr/local/lib/python3.7/dist-packages (from scanpy) (1.0.1)\n",
            "Requirement already satisfied: pandas>=0.21 in /usr/local/lib/python3.7/dist-packages (from scanpy) (1.1.5)\n",
            "Requirement already satisfied: matplotlib>=3.1.2 in /usr/local/lib/python3.7/dist-packages (from scanpy) (3.2.2)\n",
            "Requirement already satisfied: packaging in /usr/local/lib/python3.7/dist-packages (from scanpy) (21.0)\n",
            "Requirement already satisfied: numpy>=1.17.0 in /usr/local/lib/python3.7/dist-packages (from scanpy) (1.19.5)\n",
            "Requirement already satisfied: h5py>=2.10.0 in /usr/local/lib/python3.7/dist-packages (from scanpy) (3.1.0)\n",
            "Collecting anndata>=0.7.4\n",
            "\u001b[?25l  Downloading https://files.pythonhosted.org/packages/b8/ac/92f7a3687270dabd13c4bf8ec9ec4e9577df75311743982d63a644cff780/anndata-0.7.6-py3-none-any.whl (127kB)\n",
            "\u001b[K     |████████████████████████████████| 133kB 31.5MB/s \n",
            "\u001b[?25hRequirement already satisfied: tqdm in /usr/local/lib/python3.7/dist-packages (from scanpy) (4.41.1)\n",
            "Requirement already satisfied: importlib_metadata>=0.7; python_version < \"3.8\" in /usr/local/lib/python3.7/dist-packages (from scanpy) (4.6.1)\n",
            "Collecting sinfo\n",
            "  Downloading https://files.pythonhosted.org/packages/cd/37/3bedd499ae24c765fa2a165f96bb05d86ad0dd40fdf9917adbf80434445a/sinfo-0.3.4.tar.gz\n",
            "Requirement already satisfied: setuptools in /usr/local/lib/python3.7/dist-packages (from numba>=0.41.0->scanpy) (57.2.0)\n",
            "Requirement already satisfied: llvmlite<0.35,>=0.34.0.dev0 in /usr/local/lib/python3.7/dist-packages (from numba>=0.41.0->scanpy) (0.34.0)\n",
            "Requirement already satisfied: decorator<5,>=4.3 in /usr/local/lib/python3.7/dist-packages (from networkx>=2.3->scanpy) (4.4.2)\n",
            "Requirement already satisfied: six>=1.9.0 in /usr/local/lib/python3.7/dist-packages (from tables->scanpy) (1.15.0)\n",
            "Requirement already satisfied: numexpr>=2.5.2 in /usr/local/lib/python3.7/dist-packages (from tables->scanpy) (2.7.3)\n",
            "Collecting pynndescent>=0.5\n",
            "\u001b[?25l  Downloading https://files.pythonhosted.org/packages/b1/8d/44bf1c9e69dd9bf0697a3b9375b0729942525c0eee7b7859f563439d676a/pynndescent-0.5.4.tar.gz (1.1MB)\n",
            "\u001b[K     |████████████████████████████████| 1.1MB 27.6MB/s \n",
            "\u001b[?25hRequirement already satisfied: pytz>=2017.2 in /usr/local/lib/python3.7/dist-packages (from pandas>=0.21->scanpy) (2018.9)\n",
            "Requirement already satisfied: python-dateutil>=2.7.3 in /usr/local/lib/python3.7/dist-packages (from pandas>=0.21->scanpy) (2.8.1)\n",
            "Requirement already satisfied: pyparsing!=2.0.4,!=2.1.2,!=2.1.6,>=2.0.1 in /usr/local/lib/python3.7/dist-packages (from matplotlib>=3.1.2->scanpy) (2.4.7)\n",
            "Requirement already satisfied: kiwisolver>=1.0.1 in /usr/local/lib/python3.7/dist-packages (from matplotlib>=3.1.2->scanpy) (1.3.1)\n",
            "Requirement already satisfied: cycler>=0.10 in /usr/local/lib/python3.7/dist-packages (from matplotlib>=3.1.2->scanpy) (0.10.0)\n",
            "Requirement already satisfied: cached-property; python_version < \"3.8\" in /usr/local/lib/python3.7/dist-packages (from h5py>=2.10.0->scanpy) (1.5.2)\n",
            "Requirement already satisfied: xlrd<2.0 in /usr/local/lib/python3.7/dist-packages (from anndata>=0.7.4->scanpy) (1.1.0)\n",
            "Requirement already satisfied: zipp>=0.5 in /usr/local/lib/python3.7/dist-packages (from importlib_metadata>=0.7; python_version < \"3.8\"->scanpy) (3.5.0)\n",
            "Requirement already satisfied: typing-extensions>=3.6.4; python_version < \"3.8\" in /usr/local/lib/python3.7/dist-packages (from importlib_metadata>=0.7; python_version < \"3.8\"->scanpy) (3.7.4.3)\n",
            "Collecting stdlib_list\n",
            "\u001b[?25l  Downloading https://files.pythonhosted.org/packages/7a/b1/52f59dcf31ead2f0ceff8976288449608d912972b911f55dff712cef5719/stdlib_list-0.8.0-py3-none-any.whl (63kB)\n",
            "\u001b[K     |████████████████████████████████| 71kB 6.7MB/s \n",
            "\u001b[?25hBuilding wheels for collected packages: umap-learn, sinfo, pynndescent\n",
            "  Building wheel for umap-learn (setup.py) ... \u001b[?25l\u001b[?25hdone\n",
            "  Created wheel for umap-learn: filename=umap_learn-0.5.1-cp37-none-any.whl size=76569 sha256=534182d4a330c91354f4b7539ae569c0ac5904aabd67886201b4570972cae5c2\n",
            "  Stored in directory: /root/.cache/pip/wheels/ad/df/d5/a3691296ff779f25cd1cf415a3af954b987fb53111e3392cf4\n",
            "  Building wheel for sinfo (setup.py) ... \u001b[?25l\u001b[?25hdone\n",
            "  Created wheel for sinfo: filename=sinfo-0.3.4-cp37-none-any.whl size=7899 sha256=af3be1eba0cfaaf7d1cb5a98cfa9dd403ed5976712364445981099ea1b5b177b\n",
            "  Stored in directory: /root/.cache/pip/wheels/43/a4/e5/d4e0a170ccc134e509ea55acad7845f0fdfa62b964e430f0e3\n",
            "  Building wheel for pynndescent (setup.py) ... \u001b[?25l\u001b[?25hdone\n",
            "  Created wheel for pynndescent: filename=pynndescent-0.5.4-cp37-none-any.whl size=52374 sha256=5acbcf81c60cf8bcb045e9811d91cbe9ad6ef2f6287462349e0bdf66954d7b57\n",
            "  Stored in directory: /root/.cache/pip/wheels/42/4b/8c/f6f119c67cf6583bb192431fa8f7278cf95e5b943055077d94\n",
            "Successfully built umap-learn sinfo pynndescent\n",
            "Installing collected packages: pynndescent, umap-learn, anndata, stdlib-list, sinfo, scanpy\n",
            "Successfully installed anndata-0.7.6 pynndescent-0.5.4 scanpy-1.8.1 sinfo-0.3.4 stdlib-list-0.8.0 umap-learn-0.5.1\n",
            "Requirement already satisfied: anndata in /usr/local/lib/python3.7/dist-packages (0.7.6)\n",
            "Requirement already satisfied: numpy>=1.16.5 in /usr/local/lib/python3.7/dist-packages (from anndata) (1.19.5)\n",
            "Requirement already satisfied: xlrd<2.0 in /usr/local/lib/python3.7/dist-packages (from anndata) (1.1.0)\n",
            "Requirement already satisfied: importlib_metadata>=0.7; python_version < \"3.8\" in /usr/local/lib/python3.7/dist-packages (from anndata) (4.6.1)\n",
            "Requirement already satisfied: packaging>=20 in /usr/local/lib/python3.7/dist-packages (from anndata) (21.0)\n",
            "Requirement already satisfied: natsort in /usr/local/lib/python3.7/dist-packages (from anndata) (5.5.0)\n",
            "Requirement already satisfied: scipy>1.4 in /usr/local/lib/python3.7/dist-packages (from anndata) (1.4.1)\n",
            "Requirement already satisfied: pandas>=1.1.1 in /usr/local/lib/python3.7/dist-packages (from anndata) (1.1.5)\n",
            "Requirement already satisfied: h5py in /usr/local/lib/python3.7/dist-packages (from anndata) (3.1.0)\n",
            "Requirement already satisfied: zipp>=0.5 in /usr/local/lib/python3.7/dist-packages (from importlib_metadata>=0.7; python_version < \"3.8\"->anndata) (3.5.0)\n",
            "Requirement already satisfied: typing-extensions>=3.6.4; python_version < \"3.8\" in /usr/local/lib/python3.7/dist-packages (from importlib_metadata>=0.7; python_version < \"3.8\"->anndata) (3.7.4.3)\n",
            "Requirement already satisfied: pyparsing>=2.0.2 in /usr/local/lib/python3.7/dist-packages (from packaging>=20->anndata) (2.4.7)\n",
            "Requirement already satisfied: pytz>=2017.2 in /usr/local/lib/python3.7/dist-packages (from pandas>=1.1.1->anndata) (2018.9)\n",
            "Requirement already satisfied: python-dateutil>=2.7.3 in /usr/local/lib/python3.7/dist-packages (from pandas>=1.1.1->anndata) (2.8.1)\n",
            "Requirement already satisfied: cached-property; python_version < \"3.8\" in /usr/local/lib/python3.7/dist-packages (from h5py->anndata) (1.5.2)\n",
            "Requirement already satisfied: six>=1.5 in /usr/local/lib/python3.7/dist-packages (from python-dateutil>=2.7.3->pandas>=1.1.1->anndata) (1.15.0)\n",
            "Cloning into 'SmashFork'...\n",
            "remote: Enumerating objects: 415, done.\u001b[K\n",
            "remote: Counting objects: 100% (415/415), done.\u001b[K\n",
            "remote: Compressing objects: 100% (199/199), done.\u001b[K\n",
            "remote: Total 415 (delta 193), reused 411 (delta 189), pack-reused 0\u001b[K\n",
            "Receiving objects: 100% (415/415), 42.96 MiB | 29.76 MiB/s, done.\n",
            "Resolving deltas: 100% (193/193), done.\n",
            "Cloning into 'RankCorr'...\n",
            "remote: Enumerating objects: 19, done.\u001b[K\n",
            "remote: Counting objects: 100% (19/19), done.\u001b[K\n",
            "remote: Compressing objects: 100% (18/18), done.\u001b[K\n",
            "remote: Total 19 (delta 2), reused 12 (delta 0), pack-reused 0\u001b[K\n",
            "Unpacking objects: 100% (19/19), done.\n"
          ],
          "name": "stdout"
        }
      ]
    },
    {
      "cell_type": "code",
      "metadata": {
        "colab": {
          "base_uri": "https://localhost:8080/"
        },
        "id": "i7cNN5oD2mkR",
        "outputId": "3af77d46-e20a-4687-d8f0-95601ecbeeba"
      },
      "source": [
        "# Check GPU\n",
        "\n",
        "gpu_info = !nvidia-smi\n",
        "gpu_info = '\\n'.join(gpu_info)\n",
        "if gpu_info.find('failed') >= 0:\n",
        "  print('Select the Runtime > \"Change runtime type\" menu to enable a GPU accelerator, ')\n",
        "  print('and then re-execute this cell.')\n",
        "else:\n",
        "  print(gpu_info)"
      ],
      "execution_count": 3,
      "outputs": [
        {
          "output_type": "stream",
          "text": [
            "Select the Runtime > \"Change runtime type\" menu to enable a GPU accelerator, \n",
            "and then re-execute this cell.\n"
          ],
          "name": "stdout"
        }
      ]
    },
    {
      "cell_type": "code",
      "metadata": {
        "id": "nCxHfP2k2te2"
      },
      "source": [
        "import sys\n",
        "import os\n",
        "# to import utils\n",
        "sys.path.append(os.path.abspath('/content/gdrive/My Drive/Differentiable-Sparse-Subset-Selection/notebooks'))"
      ],
      "execution_count": 4,
      "outputs": []
    },
    {
      "cell_type": "markdown",
      "metadata": {
        "id": "kuKoVgDwzrgo"
      },
      "source": [
        "# All the Imports"
      ]
    },
    {
      "cell_type": "code",
      "metadata": {
        "colab": {
          "base_uri": "https://localhost:8080/"
        },
        "id": "ZgkcUm9Pzn7_",
        "outputId": "b80fb021-63da-4089-81ba-b4339bcb60be"
      },
      "source": [
        "%%time \n",
        "import itertools \n",
        "import numpy as np\n",
        "import pandas as pd\n",
        "import scanpy as sc\n",
        "import matplotlib.pyplot as plt\n",
        "import seaborn as sns\n",
        "import os\n",
        "from sklearn.preprocessing import LabelEncoder\n",
        "\n",
        "\n",
        "from RankCorr.picturedRocks import Rocks\n",
        "import SmashFork.smashpy as smashpy\n",
        "\n",
        "\n",
        "import torch\n",
        "from torch import nn\n",
        "from torch.autograd import Variable\n",
        "from torch.nn import functional as F\n",
        "\n",
        "from utils import *\n"
      ],
      "execution_count": 5,
      "outputs": [
        {
          "output_type": "stream",
          "text": [
            "/usr/local/lib/python3.7/dist-packages/sklearn/externals/six.py:31: FutureWarning:\n",
            "\n",
            "The module is deprecated in version 0.21 and will be removed in version 0.23 since we've dropped support for Python 2.7. Please rely on the official version of six (https://pypi.org/project/six/).\n",
            "\n",
            "/usr/local/lib/python3.7/dist-packages/sklearn/utils/deprecation.py:144: FutureWarning:\n",
            "\n",
            "The sklearn.neighbors.base module is  deprecated in version 0.22 and will be removed in version 0.24. The corresponding classes / functions should instead be imported from sklearn.neighbors. Anything that cannot be imported from sklearn.neighbors is now part of the private API.\n",
            "\n",
            "/usr/local/lib/python3.7/dist-packages/sklearn/utils/deprecation.py:144: FutureWarning:\n",
            "\n",
            "The sklearn.ensemble.bagging module is  deprecated in version 0.22 and will be removed in version 0.24. The corresponding classes / functions should instead be imported from sklearn.ensemble. Anything that cannot be imported from sklearn.ensemble is now part of the private API.\n",
            "\n",
            "/usr/local/lib/python3.7/dist-packages/sklearn/utils/deprecation.py:144: FutureWarning:\n",
            "\n",
            "The sklearn.ensemble.base module is  deprecated in version 0.22 and will be removed in version 0.24. The corresponding classes / functions should instead be imported from sklearn.ensemble. Anything that cannot be imported from sklearn.ensemble is now part of the private API.\n",
            "\n",
            "/usr/local/lib/python3.7/dist-packages/sklearn/utils/deprecation.py:144: FutureWarning:\n",
            "\n",
            "The sklearn.ensemble.forest module is  deprecated in version 0.22 and will be removed in version 0.24. The corresponding classes / functions should instead be imported from sklearn.ensemble. Anything that cannot be imported from sklearn.ensemble is now part of the private API.\n",
            "\n",
            "/usr/local/lib/python3.7/dist-packages/sklearn/externals/joblib/__init__.py:15: FutureWarning:\n",
            "\n",
            "sklearn.externals.joblib is deprecated in 0.21 and will be removed in 0.23. Please import this functionality directly from joblib, which can be installed with: pip install joblib. If this warning is raised when loading pickled models, you may need to re-serialize those models with scikit-learn 0.21+.\n",
            "\n"
          ],
          "name": "stderr"
        },
        {
          "output_type": "stream",
          "text": [
            "CPU times: user 22.6 s, sys: 1.22 s, total: 23.8 s\n",
            "Wall time: 28.7 s\n"
          ],
          "name": "stdout"
        }
      ]
    },
    {
      "cell_type": "code",
      "metadata": {
        "id": "VH7bxl6U3CUC"
      },
      "source": [
        "from os import path"
      ],
      "execution_count": 6,
      "outputs": []
    },
    {
      "cell_type": "code",
      "metadata": {
        "id": "2BQ8JwQoyXhv"
      },
      "source": [
        "model_save_path = '/content/gdrive/MyDrive/Differentiable-Sparse-Subset-Selection/data/{}/models/'\n",
        "num_times = 5\n",
        "\n",
        "  "
      ],
      "execution_count": 7,
      "outputs": []
    },
    {
      "cell_type": "markdown",
      "metadata": {
        "id": "r49opYsbRZm0"
      },
      "source": [
        "## Accuracies and F1"
      ]
    },
    {
      "cell_type": "code",
      "metadata": {
        "id": "tKWyrk-evGB-"
      },
      "source": [
        "data_locations = [\n",
        "                  'CITE-seq',\n",
        "                  'developmental_mouse',\n",
        "                  'mouse_brain_broad',\n",
        "                  'paul',\n",
        "                  'zeisel'\n",
        "]"
      ],
      "execution_count": 8,
      "outputs": []
    },
    {
      "cell_type": "code",
      "metadata": {
        "id": "ERHoimmNx4HT"
      },
      "source": [
        "result_axis = [\n",
        " ('L1 VAE', 'l1_vae_results_{}.npy', 'l1_vae_knn_results_{}.npy'),\n",
        " ('Smash RF', 'smash_rf_results_{}.npy', 'smash_rf_knn_results_{}.npy'),\n",
        " ('SMaSH DNN', 'smash_results_{}.npy', 'smash_knn_results_{}.npy'),\n",
        " ('RankCorr', 'rankcorr_results_{}.npy', 'rankcorr_knn_results_{}.npy'),\n",
        " ('Global Gate VAE', 'globalgate_vae_results_{}.npy', 'globalgate_vae_knn_results_{}.npy'),\n",
        " ('RunningGumbel VAE', 'runningstate_vae_results_{}.npy', 'runningstate_vae_knn_results_{}.npy'),\n",
        " ('RunningGumbel Classifier', 'runningstate_classifier_results_{}.npy', 'runningstate_classifier_knn_results_{}.npy'),\n",
        " ('Concrete VAE',  'concrete_vae_results_{}.npy', 'concrete_vae_knn_results_{}.npy')\n",
        "]"
      ],
      "execution_count": 9,
      "outputs": []
    },
    {
      "cell_type": "markdown",
      "metadata": {
        "id": "5UIJ7yMcyFSK"
      },
      "source": [
        "## Random Forest"
      ]
    },
    {
      "cell_type": "code",
      "metadata": {
        "id": "MSIKDmNsvkbe",
        "colab": {
          "base_uri": "https://localhost:8080/",
          "height": 206
        },
        "outputId": "2d75965e-958c-45ad-acf1-fc6e6822e97e"
      },
      "source": [
        "results = {}\n",
        "for e, axis in itertools.product(data_locations, result_axis):\n",
        "    m, f1, _, _ = model_variances(model_save_path.format(e) + axis[1], num_times)\n",
        "    m = round(m, 3)\n",
        "    f1 = round(f1, 3)\n",
        "    if axis[0] in results:\n",
        "        results[axis[0]][e] = (m, f1)\n",
        "    else:\n",
        "        results[axis[0]] = {}\n",
        "        results[axis[0]][e] = (m, f1)\n",
        "\n",
        "tabulated_results1 = pd.DataFrame(results)\n",
        "tabulated_results1"
      ],
      "execution_count": 12,
      "outputs": [
        {
          "output_type": "execute_result",
          "data": {
            "text/html": [
              "<div>\n",
              "<style scoped>\n",
              "    .dataframe tbody tr th:only-of-type {\n",
              "        vertical-align: middle;\n",
              "    }\n",
              "\n",
              "    .dataframe tbody tr th {\n",
              "        vertical-align: top;\n",
              "    }\n",
              "\n",
              "    .dataframe thead th {\n",
              "        text-align: right;\n",
              "    }\n",
              "</style>\n",
              "<table border=\"1\" class=\"dataframe\">\n",
              "  <thead>\n",
              "    <tr style=\"text-align: right;\">\n",
              "      <th></th>\n",
              "      <th>L1 VAE</th>\n",
              "      <th>Smash RF</th>\n",
              "      <th>SMaSH DNN</th>\n",
              "      <th>RankCorr</th>\n",
              "      <th>Global Gate VAE</th>\n",
              "      <th>RunningGumbel VAE</th>\n",
              "      <th>RunningGumbel Classifier</th>\n",
              "      <th>Concrete VAE</th>\n",
              "    </tr>\n",
              "  </thead>\n",
              "  <tbody>\n",
              "    <tr>\n",
              "      <th>CITE-seq</th>\n",
              "      <td>(0.123, 0.845)</td>\n",
              "      <td>(0.069, 0.915)</td>\n",
              "      <td>(0.067, 0.917)</td>\n",
              "      <td>(0.069, 0.912)</td>\n",
              "      <td>(0.126, 0.837)</td>\n",
              "      <td>(0.093, 0.882)</td>\n",
              "      <td>(0.063, 0.924)</td>\n",
              "      <td>(0.124, 0.838)</td>\n",
              "    </tr>\n",
              "    <tr>\n",
              "      <th>developmental_mouse</th>\n",
              "      <td>(0.354, 0.622)</td>\n",
              "      <td>(0.138, 0.858)</td>\n",
              "      <td>(0.596, 0.392)</td>\n",
              "      <td>(0.135, 0.861)</td>\n",
              "      <td>(0.335, 0.661)</td>\n",
              "      <td>(0.281, 0.697)</td>\n",
              "      <td>(0.088, 0.908)</td>\n",
              "      <td>(0.438, 0.533)</td>\n",
              "    </tr>\n",
              "    <tr>\n",
              "      <th>mouse_brain_broad</th>\n",
              "      <td>(0.148, 0.841)</td>\n",
              "      <td>(0.018, 0.982)</td>\n",
              "      <td>(0.014, 0.985)</td>\n",
              "      <td>(0.03, 0.969)</td>\n",
              "      <td>(0.09, 0.904)</td>\n",
              "      <td>(0.011, 0.989)</td>\n",
              "      <td>(0.005, 0.995)</td>\n",
              "      <td>(0.163, 0.826)</td>\n",
              "    </tr>\n",
              "    <tr>\n",
              "      <th>paul</th>\n",
              "      <td>(0.534, 0.397)</td>\n",
              "      <td>(0.116, 0.881)</td>\n",
              "      <td>(0.192, 0.797)</td>\n",
              "      <td>(0.147, 0.847)</td>\n",
              "      <td>(0.362, 0.598)</td>\n",
              "      <td>(0.13, 0.868)</td>\n",
              "      <td>(0.139, 0.858)</td>\n",
              "      <td>(0.412, 0.541)</td>\n",
              "    </tr>\n",
              "    <tr>\n",
              "      <th>zeisel</th>\n",
              "      <td>(0.198, 0.785)</td>\n",
              "      <td>(0.052, 0.947)</td>\n",
              "      <td>(0.066, 0.933)</td>\n",
              "      <td>(0.053, 0.946)</td>\n",
              "      <td>(0.193, 0.795)</td>\n",
              "      <td>(0.097, 0.898)</td>\n",
              "      <td>(0.047, 0.952)</td>\n",
              "      <td>(0.187, 0.801)</td>\n",
              "    </tr>\n",
              "  </tbody>\n",
              "</table>\n",
              "</div>"
            ],
            "text/plain": [
              "                             L1 VAE  ...    Concrete VAE\n",
              "CITE-seq             (0.123, 0.845)  ...  (0.124, 0.838)\n",
              "developmental_mouse  (0.354, 0.622)  ...  (0.438, 0.533)\n",
              "mouse_brain_broad    (0.148, 0.841)  ...  (0.163, 0.826)\n",
              "paul                 (0.534, 0.397)  ...  (0.412, 0.541)\n",
              "zeisel               (0.198, 0.785)  ...  (0.187, 0.801)\n",
              "\n",
              "[5 rows x 8 columns]"
            ]
          },
          "metadata": {
            "tags": []
          },
          "execution_count": 12
        }
      ]
    },
    {
      "cell_type": "markdown",
      "metadata": {
        "id": "Hd-5oYbQyGz6"
      },
      "source": [
        "## KNN"
      ]
    },
    {
      "cell_type": "code",
      "metadata": {
        "colab": {
          "base_uri": "https://localhost:8080/",
          "height": 206
        },
        "id": "bp0vY2tL2eRX",
        "outputId": "d4334703-742e-42b7-9fe3-1fafc953fc62"
      },
      "source": [
        "results = {}\n",
        "for e, axis in itertools.product(data_locations, result_axis):\n",
        "    m, f1, _, _ = model_variances(model_save_path.format(e) + axis[2], num_times)\n",
        "    m = round(m, 3)\n",
        "    f1 = round(f1, 3)\n",
        "    if axis[0] in results:\n",
        "        results[axis[0]][e] = (m, f1)\n",
        "    else:\n",
        "        results[axis[0]] = {}\n",
        "        results[axis[0]][e] = (m, f1)\n",
        "\n",
        "tabulated_results2 = pd.DataFrame(results)\n",
        "tabulated_results2"
      ],
      "execution_count": 13,
      "outputs": [
        {
          "output_type": "execute_result",
          "data": {
            "text/html": [
              "<div>\n",
              "<style scoped>\n",
              "    .dataframe tbody tr th:only-of-type {\n",
              "        vertical-align: middle;\n",
              "    }\n",
              "\n",
              "    .dataframe tbody tr th {\n",
              "        vertical-align: top;\n",
              "    }\n",
              "\n",
              "    .dataframe thead th {\n",
              "        text-align: right;\n",
              "    }\n",
              "</style>\n",
              "<table border=\"1\" class=\"dataframe\">\n",
              "  <thead>\n",
              "    <tr style=\"text-align: right;\">\n",
              "      <th></th>\n",
              "      <th>L1 VAE</th>\n",
              "      <th>Smash RF</th>\n",
              "      <th>SMaSH DNN</th>\n",
              "      <th>RankCorr</th>\n",
              "      <th>Global Gate VAE</th>\n",
              "      <th>RunningGumbel VAE</th>\n",
              "      <th>RunningGumbel Classifier</th>\n",
              "      <th>Concrete VAE</th>\n",
              "    </tr>\n",
              "  </thead>\n",
              "  <tbody>\n",
              "    <tr>\n",
              "      <th>CITE-seq</th>\n",
              "      <td>(0.178, 0.798)</td>\n",
              "      <td>(0.073, 0.915)</td>\n",
              "      <td>(0.067, 0.921)</td>\n",
              "      <td>(0.081, 0.905)</td>\n",
              "      <td>(0.2, 0.77)</td>\n",
              "      <td>(0.116, 0.874)</td>\n",
              "      <td>(0.062, 0.929)</td>\n",
              "      <td>(0.182, 0.789)</td>\n",
              "    </tr>\n",
              "    <tr>\n",
              "      <th>developmental_mouse</th>\n",
              "      <td>(0.519, 0.475)</td>\n",
              "      <td>(0.227, 0.775)</td>\n",
              "      <td>(0.696, 0.277)</td>\n",
              "      <td>(0.208, 0.782)</td>\n",
              "      <td>(0.477, 0.513)</td>\n",
              "      <td>(0.396, 0.589)</td>\n",
              "      <td>(0.115, 0.883)</td>\n",
              "      <td>(0.577, 0.411)</td>\n",
              "    </tr>\n",
              "    <tr>\n",
              "      <th>mouse_brain_broad</th>\n",
              "      <td>(0.232, 0.742)</td>\n",
              "      <td>(0.028, 0.972)</td>\n",
              "      <td>(0.014, 0.985)</td>\n",
              "      <td>(0.04, 0.96)</td>\n",
              "      <td>(0.138, 0.851)</td>\n",
              "      <td>(0.014, 0.986)</td>\n",
              "      <td>(0.006, 0.994)</td>\n",
              "      <td>(0.238, 0.74)</td>\n",
              "    </tr>\n",
              "    <tr>\n",
              "      <th>paul</th>\n",
              "      <td>(0.589, 0.37)</td>\n",
              "      <td>(0.212, 0.772)</td>\n",
              "      <td>(0.294, 0.677)</td>\n",
              "      <td>(0.249, 0.739)</td>\n",
              "      <td>(0.416, 0.553)</td>\n",
              "      <td>(0.244, 0.747)</td>\n",
              "      <td>(0.226, 0.766)</td>\n",
              "      <td>(0.477, 0.488)</td>\n",
              "    </tr>\n",
              "    <tr>\n",
              "      <th>zeisel</th>\n",
              "      <td>(0.253, 0.735)</td>\n",
              "      <td>(0.054, 0.945)</td>\n",
              "      <td>(0.067, 0.931)</td>\n",
              "      <td>(0.056, 0.943)</td>\n",
              "      <td>(0.278, 0.707)</td>\n",
              "      <td>(0.12, 0.876)</td>\n",
              "      <td>(0.037, 0.963)</td>\n",
              "      <td>(0.273, 0.712)</td>\n",
              "    </tr>\n",
              "  </tbody>\n",
              "</table>\n",
              "</div>"
            ],
            "text/plain": [
              "                             L1 VAE  ...    Concrete VAE\n",
              "CITE-seq             (0.178, 0.798)  ...  (0.182, 0.789)\n",
              "developmental_mouse  (0.519, 0.475)  ...  (0.577, 0.411)\n",
              "mouse_brain_broad    (0.232, 0.742)  ...   (0.238, 0.74)\n",
              "paul                  (0.589, 0.37)  ...  (0.477, 0.488)\n",
              "zeisel               (0.253, 0.735)  ...  (0.273, 0.712)\n",
              "\n",
              "[5 rows x 8 columns]"
            ]
          },
          "metadata": {
            "tags": []
          },
          "execution_count": 13
        }
      ]
    },
    {
      "cell_type": "code",
      "metadata": {
        "id": "wEV2Mxvvx9jM"
      },
      "source": [
        ""
      ],
      "execution_count": 13,
      "outputs": []
    },
    {
      "cell_type": "code",
      "metadata": {
        "colab": {
          "base_uri": "https://localhost:8080/",
          "height": 206
        },
        "id": "abTYT-fLTLCz",
        "outputId": "954cdb70-74de-4220-8b6a-c00103db3efe"
      },
      "source": [
        "results = {}\n",
        "for e, axis in itertools.product(data_locations, result_axis):\n",
        "    m1, f11, _, _ = model_variances(model_save_path.format(e) + axis[1], num_times)\n",
        "    m2, f12, _, _ = model_variances(model_save_path.format(e) + axis[2], num_times)\n",
        "    m = round(m1-m2, 3)\n",
        "    f1 = round(f11-f12, 3)\n",
        "    if axis[0] in results:\n",
        "        results[axis[0]][e] = (m, f1)\n",
        "    else:\n",
        "        results[axis[0]] = {}\n",
        "        results[axis[0]][e] = (m, f1)\n",
        "\n",
        "tabulated_results3 = pd.DataFrame(results)\n",
        "tabulated_results3"
      ],
      "execution_count": 16,
      "outputs": [
        {
          "output_type": "execute_result",
          "data": {
            "text/html": [
              "<div>\n",
              "<style scoped>\n",
              "    .dataframe tbody tr th:only-of-type {\n",
              "        vertical-align: middle;\n",
              "    }\n",
              "\n",
              "    .dataframe tbody tr th {\n",
              "        vertical-align: top;\n",
              "    }\n",
              "\n",
              "    .dataframe thead th {\n",
              "        text-align: right;\n",
              "    }\n",
              "</style>\n",
              "<table border=\"1\" class=\"dataframe\">\n",
              "  <thead>\n",
              "    <tr style=\"text-align: right;\">\n",
              "      <th></th>\n",
              "      <th>L1 VAE</th>\n",
              "      <th>Smash RF</th>\n",
              "      <th>SMaSH DNN</th>\n",
              "      <th>RankCorr</th>\n",
              "      <th>Global Gate VAE</th>\n",
              "      <th>RunningGumbel VAE</th>\n",
              "      <th>RunningGumbel Classifier</th>\n",
              "      <th>Concrete VAE</th>\n",
              "    </tr>\n",
              "  </thead>\n",
              "  <tbody>\n",
              "    <tr>\n",
              "      <th>CITE-seq</th>\n",
              "      <td>(-0.055, 0.047)</td>\n",
              "      <td>(-0.004, 0.001)</td>\n",
              "      <td>(0.0, -0.003)</td>\n",
              "      <td>(-0.012, 0.007)</td>\n",
              "      <td>(-0.074, 0.067)</td>\n",
              "      <td>(-0.023, 0.008)</td>\n",
              "      <td>(0.001, -0.005)</td>\n",
              "      <td>(-0.058, 0.049)</td>\n",
              "    </tr>\n",
              "    <tr>\n",
              "      <th>developmental_mouse</th>\n",
              "      <td>(-0.165, 0.147)</td>\n",
              "      <td>(-0.088, 0.083)</td>\n",
              "      <td>(-0.1, 0.115)</td>\n",
              "      <td>(-0.073, 0.079)</td>\n",
              "      <td>(-0.142, 0.148)</td>\n",
              "      <td>(-0.115, 0.108)</td>\n",
              "      <td>(-0.027, 0.025)</td>\n",
              "      <td>(-0.138, 0.121)</td>\n",
              "    </tr>\n",
              "    <tr>\n",
              "      <th>mouse_brain_broad</th>\n",
              "      <td>(-0.084, 0.1)</td>\n",
              "      <td>(-0.01, 0.01)</td>\n",
              "      <td>(0.0, -0.0)</td>\n",
              "      <td>(-0.01, 0.01)</td>\n",
              "      <td>(-0.049, 0.053)</td>\n",
              "      <td>(-0.003, 0.003)</td>\n",
              "      <td>(-0.0, 0.0)</td>\n",
              "      <td>(-0.075, 0.087)</td>\n",
              "    </tr>\n",
              "    <tr>\n",
              "      <th>paul</th>\n",
              "      <td>(-0.054, 0.027)</td>\n",
              "      <td>(-0.096, 0.109)</td>\n",
              "      <td>(-0.102, 0.12)</td>\n",
              "      <td>(-0.101, 0.108)</td>\n",
              "      <td>(-0.055, 0.045)</td>\n",
              "      <td>(-0.114, 0.121)</td>\n",
              "      <td>(-0.087, 0.093)</td>\n",
              "      <td>(-0.066, 0.053)</td>\n",
              "    </tr>\n",
              "    <tr>\n",
              "      <th>zeisel</th>\n",
              "      <td>(-0.055, 0.05)</td>\n",
              "      <td>(-0.002, 0.002)</td>\n",
              "      <td>(-0.002, 0.002)</td>\n",
              "      <td>(-0.002, 0.003)</td>\n",
              "      <td>(-0.085, 0.088)</td>\n",
              "      <td>(-0.024, 0.022)</td>\n",
              "      <td>(0.011, -0.011)</td>\n",
              "      <td>(-0.086, 0.089)</td>\n",
              "    </tr>\n",
              "  </tbody>\n",
              "</table>\n",
              "</div>"
            ],
            "text/plain": [
              "                              L1 VAE  ...     Concrete VAE\n",
              "CITE-seq             (-0.055, 0.047)  ...  (-0.058, 0.049)\n",
              "developmental_mouse  (-0.165, 0.147)  ...  (-0.138, 0.121)\n",
              "mouse_brain_broad      (-0.084, 0.1)  ...  (-0.075, 0.087)\n",
              "paul                 (-0.054, 0.027)  ...  (-0.066, 0.053)\n",
              "zeisel                (-0.055, 0.05)  ...  (-0.086, 0.089)\n",
              "\n",
              "[5 rows x 8 columns]"
            ]
          },
          "metadata": {
            "tags": []
          },
          "execution_count": 16
        }
      ]
    },
    {
      "cell_type": "markdown",
      "metadata": {
        "id": "Ika1YZkURQr0"
      },
      "source": [
        "# Things to note for paper\n",
        "\n",
        "PySmash uses a seed internally so the model is deterministic to a particular dataset. We used various different train seeds, whereas the smash paper uses the whole dataset for the data."
      ]
    },
    {
      "cell_type": "code",
      "metadata": {
        "id": "-aGZeycHRS6D"
      },
      "source": [
        ""
      ],
      "execution_count": 11,
      "outputs": []
    },
    {
      "cell_type": "code",
      "metadata": {
        "id": "4zqvDbQ3fi_p"
      },
      "source": [
        ""
      ],
      "execution_count": 11,
      "outputs": []
    }
  ]
}